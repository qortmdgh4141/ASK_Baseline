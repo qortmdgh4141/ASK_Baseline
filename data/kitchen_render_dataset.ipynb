{
 "cells": [
  {
   "cell_type": "code",
   "execution_count": 1,
   "metadata": {},
   "outputs": [
    {
     "ename": "AttributeError",
     "evalue": "'NpzFile' object has no attribute 'shape'",
     "output_type": "error",
     "traceback": [
      "\u001b[0;31m---------------------------------------------------------------------------\u001b[0m",
      "\u001b[0;31mAttributeError\u001b[0m                            Traceback (most recent call last)",
      "Cell \u001b[0;32mIn[1], line 4\u001b[0m\n\u001b[1;32m      1\u001b[0m \u001b[39mimport\u001b[39;00m \u001b[39mnumpy\u001b[39;00m \u001b[39mas\u001b[39;00m \u001b[39mnp\u001b[39;00m\n\u001b[1;32m      3\u001b[0m a \u001b[39m=\u001b[39m np\u001b[39m.\u001b[39mload(\u001b[39m'\u001b[39m\u001b[39m/home/spectrum/study/ASK_Baseline/data/d4rl_kitchen_rendered_kitchen-mixed-v0_1.npz\u001b[39m\u001b[39m'\u001b[39m)\n\u001b[0;32m----> 4\u001b[0m a\u001b[39m.\u001b[39;49mshape\n",
      "\u001b[0;31mAttributeError\u001b[0m: 'NpzFile' object has no attribute 'shape'"
     ]
    }
   ],
   "source": [
    "import numpy as np\n",
    "\n",
    "a = np.load('/home/spectrum/study/ASK_Baseline/data/d4rl_kitchen_rendered_kitchen-mixed-v0_1.npz')\n",
    "a.shape"
   ]
  },
  {
   "cell_type": "code",
   "execution_count": 17,
   "metadata": {},
   "outputs": [
    {
     "name": "stdout",
     "output_type": "stream",
     "text": [
      "observations\n",
      "actions\n",
      "next_observations\n",
      "rewards\n",
      "terminals\n",
      "13693\n",
      "observations\n",
      "actions\n",
      "next_observations\n",
      "rewards\n",
      "terminals\n",
      "27386\n",
      "observations\n",
      "actions\n",
      "next_observations\n",
      "rewards\n",
      "terminals\n",
      "41079\n",
      "observations\n",
      "actions\n",
      "next_observations\n",
      "rewards\n",
      "terminals\n",
      "54772\n",
      "observations\n",
      "actions\n",
      "next_observations\n",
      "rewards\n",
      "terminals\n",
      "68465\n",
      "observations\n",
      "actions\n",
      "next_observations\n",
      "rewards\n",
      "terminals\n",
      "82158\n",
      "observations\n",
      "actions\n",
      "next_observations\n",
      "rewards\n",
      "terminals\n",
      "95851\n",
      "observations\n",
      "actions\n",
      "next_observations\n",
      "rewards\n",
      "terminals\n",
      "109544\n",
      "observations\n",
      "actions\n",
      "next_observations\n",
      "rewards\n",
      "terminals\n",
      "123237\n",
      "observations\n",
      "actions\n",
      "next_observations\n",
      "rewards\n",
      "terminals\n",
      "136937\n"
     ]
    }
   ],
   "source": [
    "from collections import defaultdict\n",
    "keys = a.files\n",
    "\n",
    "all_data = defaultdict(list)\n",
    "for i in range(10):\n",
    "    \n",
    "    data = np.load(f'/home/spectrum/study/ASK_Baseline/data/d4rl_kitchen_rendered_kitchen-mixed-v0_{i+1}.npz')\n",
    "    for k in keys:\n",
    "        print(k)\n",
    "        all_data[k].extend(data[k])\n",
    "    print(len(all_data['observations']))\n",
    "    "
   ]
  },
  {
   "cell_type": "code",
   "execution_count": 21,
   "metadata": {},
   "outputs": [
    {
     "name": "stdout",
     "output_type": "stream",
     "text": [
      "(136937, 64, 64, 3)\n",
      "(1369370, 9)\n",
      "(136937, 64, 64, 3)\n",
      "(1369370,)\n",
      "(1369370,)\n"
     ]
    }
   ],
   "source": [
    "for k in all_data.keys():\n",
    "    all_data[k] = np.array(all_data[k])\n",
    "    print(all_data[k].shape)\n"
   ]
  },
  {
   "cell_type": "code",
   "execution_count": 23,
   "metadata": {},
   "outputs": [
    {
     "data": {
      "text/plain": [
       "(136937,)"
      ]
     },
     "execution_count": 23,
     "metadata": {},
     "output_type": "execute_result"
    }
   ],
   "source": [
    "all_data[k][:136937].shape"
   ]
  },
  {
   "cell_type": "code",
   "execution_count": 28,
   "metadata": {},
   "outputs": [
    {
     "name": "stdout",
     "output_type": "stream",
     "text": [
      "(136937, 64, 64, 3)\n",
      "(136937, 64, 64, 3)\n",
      "(136937, 9)\n",
      "(136937,)\n",
      "(136937,)\n"
     ]
    }
   ],
   "source": [
    "for k in ['observations', 'next_observations', 'actions', 'rewards', 'terminals']:\n",
    "    # all_data[k] = all_data[k][:136937] \n",
    "    print(all_data[k].shape)"
   ]
  },
  {
   "cell_type": "code",
   "execution_count": 27,
   "metadata": {},
   "outputs": [
    {
     "ename": "AttributeError",
     "evalue": "'collections.defaultdict' object has no attribute 'shape'",
     "output_type": "error",
     "traceback": [
      "\u001b[0;31m---------------------------------------------------------------------------\u001b[0m",
      "\u001b[0;31mAttributeError\u001b[0m                            Traceback (most recent call last)",
      "Cell \u001b[0;32mIn[27], line 1\u001b[0m\n\u001b[0;32m----> 1\u001b[0m all_data\u001b[39m.\u001b[39;49mshape\n",
      "\u001b[0;31mAttributeError\u001b[0m: 'collections.defaultdict' object has no attribute 'shape'"
     ]
    }
   ],
   "source": [
    "all_data."
   ]
  },
  {
   "cell_type": "code",
   "execution_count": 26,
   "metadata": {},
   "outputs": [],
   "source": [
    "np.savez_compressed(f'/home/spectrum/study/ASK_Baseline/data/d4rl_kitchen_rendered_kitchen-mixed-v0.npz', **all_data)"
   ]
  }
 ],
 "metadata": {
  "kernelspec": {
   "display_name": "HI",
   "language": "python",
   "name": "python3"
  },
  "language_info": {
   "codemirror_mode": {
    "name": "ipython",
    "version": 3
   },
   "file_extension": ".py",
   "mimetype": "text/x-python",
   "name": "python",
   "nbconvert_exporter": "python",
   "pygments_lexer": "ipython3",
   "version": "3.8.18 | packaged by conda-forge | (default, Oct 10 2023, 15:44:36) \n[GCC 12.3.0]"
  },
  "orig_nbformat": 4,
  "vscode": {
   "interpreter": {
    "hash": "aada32ea1b2bb408bd09eba67b721425e09eb820a8ec37feff91cd7784cc0119"
   }
  }
 },
 "nbformat": 4,
 "nbformat_minor": 2
}
